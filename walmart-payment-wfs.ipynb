{
 "cells": [
  {
   "cell_type": "code",
   "execution_count": 1,
   "id": "6794d1ba",
   "metadata": {},
   "outputs": [],
   "source": [
    "import  pandas as pd \n",
    "import warnings\n",
    "import numpy as np\n",
    "warnings.filterwarnings(\"ignore\")\n",
    "import datetime\n",
    "today=datetime.date.today()\n",
    "str_today=today.strftime('%Y%m%d')"
   ]
  },
  {
   "cell_type": "markdown",
   "id": "d64c2bda",
   "metadata": {},
   "source": [
    "## SKU 对应表"
   ]
  },
  {
   "cell_type": "code",
   "execution_count": 2,
   "id": "596a1790",
   "metadata": {},
   "outputs": [
    {
     "data": {
      "text/plain": [
       "Index(['SAP编码', 'SAP名称', 'SKU', 'Asin', 'MODEL', 'Class1', 'Class2', 'Market',\n",
       "       'Platform', '备注', 'Unnamed: 10', 'Unnamed: 11'],\n",
       "      dtype='object')"
      ]
     },
     "execution_count": 2,
     "metadata": {},
     "output_type": "execute_result"
    }
   ],
   "source": [
    "sap=pd.read_excel(r\"\\\\192.168.184.120\\基础数据\\SAP-SKU\\SAP_SKU.xlsx\")\n",
    "\n",
    "sap.columns"
   ]
  },
  {
   "cell_type": "code",
   "execution_count": 3,
   "id": "b705c305",
   "metadata": {},
   "outputs": [],
   "source": [
    "sap=sap[sap['Platform']==\"Walmart\"]\n",
    "# 获取sku表里platform字段为walmart的所有数据"
   ]
  },
  {
   "cell_type": "code",
   "execution_count": 4,
   "id": "31a68c17",
   "metadata": {},
   "outputs": [
    {
     "data": {
      "text/html": [
       "<div>\n",
       "<style scoped>\n",
       "    .dataframe tbody tr th:only-of-type {\n",
       "        vertical-align: middle;\n",
       "    }\n",
       "\n",
       "    .dataframe tbody tr th {\n",
       "        vertical-align: top;\n",
       "    }\n",
       "\n",
       "    .dataframe thead th {\n",
       "        text-align: right;\n",
       "    }\n",
       "</style>\n",
       "<table border=\"1\" class=\"dataframe\">\n",
       "  <thead>\n",
       "    <tr style=\"text-align: right;\">\n",
       "      <th></th>\n",
       "      <th>sap</th>\n",
       "      <th>sku</th>\n",
       "    </tr>\n",
       "  </thead>\n",
       "  <tbody>\n",
       "    <tr>\n",
       "      <th>296</th>\n",
       "      <td>8.01.0276</td>\n",
       "      <td>WM-S45Max-01</td>\n",
       "    </tr>\n",
       "    <tr>\n",
       "      <th>297</th>\n",
       "      <td>8.03.0012</td>\n",
       "      <td>VM-H6-01</td>\n",
       "    </tr>\n",
       "    <tr>\n",
       "      <th>298</th>\n",
       "      <td>8.01.0162</td>\n",
       "      <td>WM-S65Pure-01</td>\n",
       "    </tr>\n",
       "    <tr>\n",
       "      <th>299</th>\n",
       "      <td>8.01.0239</td>\n",
       "      <td>VM-S6MaxV-01</td>\n",
       "    </tr>\n",
       "    <tr>\n",
       "      <th>300</th>\n",
       "      <td>8.01.0030</td>\n",
       "      <td>WM-E351-01</td>\n",
       "    </tr>\n",
       "  </tbody>\n",
       "</table>\n",
       "</div>"
      ],
      "text/plain": [
       "           sap            sku\n",
       "296  8.01.0276   WM-S45Max-01\n",
       "297  8.03.0012       VM-H6-01\n",
       "298  8.01.0162  WM-S65Pure-01\n",
       "299  8.01.0239   VM-S6MaxV-01\n",
       "300  8.01.0030     WM-E351-01"
      ]
     },
     "execution_count": 4,
     "metadata": {},
     "output_type": "execute_result"
    }
   ],
   "source": [
    "sap['sap']=sap['SAP编码'].map(lambda x:x.strip())\n",
    "sap['sku']=sap['SKU'].map(lambda x:x.strip())\n",
    "sap=sap[['sap','sku']].drop_duplicates()\n",
    "sap.head()"
   ]
  },
  {
   "cell_type": "markdown",
   "id": "402d784c",
   "metadata": {},
   "source": [
    "## payment 数据"
   ]
  },
  {
   "cell_type": "markdown",
   "id": "491da276",
   "metadata": {},
   "source": [
    "### 数据合并"
   ]
  },
  {
   "cell_type": "code",
   "execution_count": 5,
   "id": "9a9ac583",
   "metadata": {},
   "outputs": [],
   "source": [
    "pay1=pd.read_csv(r\"E:/DATA/Walmart/Payment/Legacy/Roborock_Technology_Co__10001070788_MP_02282023_reconciliationreport.csv\",header=0) \n",
    "pay2=pd.read_csv(r\"E:/DATA/Walmart/Payment/Legacy/Roborock_Technology_Co__10001070788_MP_02142023_reconciliationreport.csv\",header=0) \n",
    "pay3=pd.read_csv(r\"E:/DATA/Walmart/Payment/Legacy/Roborock_Technology_Co__10001070788_MP_02072023_reconciliationreport.csv\",header=0) \n",
    "\n",
    "pay = pd.concat([pay1,pay2,pay3])"
   ]
  },
  {
   "cell_type": "code",
   "execution_count": 6,
   "id": "0f9fbc79",
   "metadata": {
    "scrolled": true
   },
   "outputs": [],
   "source": [
    "pay['Walmart.com Order #']=pay['Walmart.com Order #'].astype(str)\n",
    "pay['Walmart.com PO #']=pay['Walmart.com PO #'].astype(str)\n",
    "pay[\"Transaction Date Time\"]=pd.to_datetime(pay[\"Transaction Date Time\"].map(lambda x:x[-4:]+'/'+x[:-5]))\n",
    "pay = pay[pay['Fulfillment Type']==\"Walmart-fulfilled(WFS)\"]"
   ]
  },
  {
   "cell_type": "code",
   "execution_count": 7,
   "id": "3e7e1eaa",
   "metadata": {},
   "outputs": [
    {
     "name": "stdout",
     "output_type": "stream",
     "text": [
      "2023-01-28 00:00:00 2023-02-24 00:00:00\n"
     ]
    }
   ],
   "source": [
    "print(pay['Transaction Date Time'].min(),pay['Transaction Date Time'].max())"
   ]
  },
  {
   "cell_type": "code",
   "execution_count": 8,
   "id": "e4df8497",
   "metadata": {},
   "outputs": [
    {
     "data": {
      "text/plain": [
       "array(['SALE', 'ADJMNT', 'REFUNDED'], dtype=object)"
      ]
     },
     "execution_count": 8,
     "metadata": {},
     "output_type": "execute_result"
    }
   ],
   "source": [
    "pay['Transaction Type'].unique()"
   ]
  },
  {
   "cell_type": "code",
   "execution_count": 9,
   "id": "a891666f",
   "metadata": {},
   "outputs": [],
   "source": [
    "pay3 = pd.merge(pay,sap,how='left',left_on='Partner Item ID',right_on='sku')"
   ]
  },
  {
   "cell_type": "code",
   "execution_count": 10,
   "id": "02632e18",
   "metadata": {},
   "outputs": [],
   "source": [
    "df_payment = pay3[['Walmart.com Order #', 'Walmart.com PO #','Partner Item ID','Adjustment Description',\n",
    "     'Transaction Type','Transaction Date Time','Fulfillment Type','Shipped Qty','Payable to Partner from Sale','Gross Sales Revenue','Refunded Retail Sales','sap']]"
   ]
  },
  {
   "cell_type": "markdown",
   "id": "03b3c26f",
   "metadata": {},
   "source": [
    "### 数据源输出"
   ]
  },
  {
   "cell_type": "code",
   "execution_count": 11,
   "id": "dfc32996",
   "metadata": {},
   "outputs": [],
   "source": [
    "# 可以用这份原始数据，做数据透视表和结果进行比对\n",
    "df_payment.to_excel(r\"F:\\Walmart\\Walmart_payment\\Walmart\\过程数据\\payment%s.xlsx\"%str_today,index=False)"
   ]
  },
  {
   "cell_type": "markdown",
   "id": "d0362461",
   "metadata": {},
   "source": [
    "### 数据清洗"
   ]
  },
  {
   "cell_type": "markdown",
   "id": "db4fe72b",
   "metadata": {},
   "source": [
    "#### 销售订单数据"
   ]
  },
  {
   "cell_type": "code",
   "execution_count": 66,
   "id": "33004b09-e69d-489e-959c-b4b2f1c34de9",
   "metadata": {},
   "outputs": [
    {
     "data": {
      "text/html": [
       "<div>\n",
       "<style scoped>\n",
       "    .dataframe tbody tr th:only-of-type {\n",
       "        vertical-align: middle;\n",
       "    }\n",
       "\n",
       "    .dataframe tbody tr th {\n",
       "        vertical-align: top;\n",
       "    }\n",
       "\n",
       "    .dataframe thead th {\n",
       "        text-align: right;\n",
       "    }\n",
       "</style>\n",
       "<table border=\"1\" class=\"dataframe\">\n",
       "  <thead>\n",
       "    <tr style=\"text-align: right;\">\n",
       "      <th></th>\n",
       "      <th>Shipped Qty</th>\n",
       "      <th>Payable to Partner from Sale</th>\n",
       "      <th>Gross Sales Revenue</th>\n",
       "      <th>Refunded Retail Sales</th>\n",
       "      <th>订单情况</th>\n",
       "      <th>output</th>\n",
       "    </tr>\n",
       "    <tr>\n",
       "      <th>sap</th>\n",
       "      <th></th>\n",
       "      <th></th>\n",
       "      <th></th>\n",
       "      <th></th>\n",
       "      <th></th>\n",
       "      <th></th>\n",
       "    </tr>\n",
       "  </thead>\n",
       "  <tbody>\n",
       "    <tr>\n",
       "      <th>8.01.0162</th>\n",
       "      <td>1</td>\n",
       "      <td>305.99</td>\n",
       "      <td>359.99</td>\n",
       "      <td>0.0</td>\n",
       "      <td></td>\n",
       "      <td>359.99</td>\n",
       "    </tr>\n",
       "    <tr>\n",
       "      <th>8.01.0298</th>\n",
       "      <td>7</td>\n",
       "      <td>1213.93</td>\n",
       "      <td>1399.93</td>\n",
       "      <td>0.0</td>\n",
       "      <td></td>\n",
       "      <td>1399.93</td>\n",
       "    </tr>\n",
       "    <tr>\n",
       "      <th>8.01.0306</th>\n",
       "      <td>26</td>\n",
       "      <td>9838.14</td>\n",
       "      <td>11179.74</td>\n",
       "      <td>0.0</td>\n",
       "      <td></td>\n",
       "      <td>11179.74</td>\n",
       "    </tr>\n",
       "    <tr>\n",
       "      <th>8.01.0307</th>\n",
       "      <td>28</td>\n",
       "      <td>10582.02</td>\n",
       "      <td>12039.72</td>\n",
       "      <td>0.0</td>\n",
       "      <td></td>\n",
       "      <td>12039.72</td>\n",
       "    </tr>\n",
       "    <tr>\n",
       "      <th>8.01.0320</th>\n",
       "      <td>13</td>\n",
       "      <td>3431.87</td>\n",
       "      <td>3899.87</td>\n",
       "      <td>0.0</td>\n",
       "      <td></td>\n",
       "      <td>3899.87</td>\n",
       "    </tr>\n",
       "    <tr>\n",
       "      <th>8.01.0324</th>\n",
       "      <td>1</td>\n",
       "      <td>158.39</td>\n",
       "      <td>179.99</td>\n",
       "      <td>0.0</td>\n",
       "      <td></td>\n",
       "      <td>179.99</td>\n",
       "    </tr>\n",
       "    <tr>\n",
       "      <th>8.01.0343</th>\n",
       "      <td>14</td>\n",
       "      <td>3212.86</td>\n",
       "      <td>3779.86</td>\n",
       "      <td>0.0</td>\n",
       "      <td></td>\n",
       "      <td>3779.86</td>\n",
       "    </tr>\n",
       "    <tr>\n",
       "      <th>8.01.0379</th>\n",
       "      <td>19</td>\n",
       "      <td>11487.21</td>\n",
       "      <td>13389.81</td>\n",
       "      <td>0.0</td>\n",
       "      <td></td>\n",
       "      <td>13389.81</td>\n",
       "    </tr>\n",
       "    <tr>\n",
       "      <th>8.01.0381</th>\n",
       "      <td>33</td>\n",
       "      <td>20270.87</td>\n",
       "      <td>23299.67</td>\n",
       "      <td>0.0</td>\n",
       "      <td></td>\n",
       "      <td>23299.67</td>\n",
       "    </tr>\n",
       "    <tr>\n",
       "      <th>8.01.0436</th>\n",
       "      <td>9</td>\n",
       "      <td>3353.91</td>\n",
       "      <td>3869.91</td>\n",
       "      <td>0.0</td>\n",
       "      <td></td>\n",
       "      <td>3869.91</td>\n",
       "    </tr>\n",
       "    <tr>\n",
       "      <th>8.01.0451</th>\n",
       "      <td>52</td>\n",
       "      <td>22369.48</td>\n",
       "      <td>25999.48</td>\n",
       "      <td>0.0</td>\n",
       "      <td></td>\n",
       "      <td>25999.48</td>\n",
       "    </tr>\n",
       "    <tr>\n",
       "      <th>8.01.0452</th>\n",
       "      <td>5</td>\n",
       "      <td>2997.25</td>\n",
       "      <td>3449.95</td>\n",
       "      <td>0.0</td>\n",
       "      <td></td>\n",
       "      <td>3449.95</td>\n",
       "    </tr>\n",
       "    <tr>\n",
       "      <th>8.01.0453</th>\n",
       "      <td>3</td>\n",
       "      <td>3062.37</td>\n",
       "      <td>3479.97</td>\n",
       "      <td>0.0</td>\n",
       "      <td></td>\n",
       "      <td>3479.97</td>\n",
       "    </tr>\n",
       "    <tr>\n",
       "      <th>8.01.0455</th>\n",
       "      <td>15</td>\n",
       "      <td>3904.65</td>\n",
       "      <td>4559.85</td>\n",
       "      <td>0.0</td>\n",
       "      <td></td>\n",
       "      <td>4559.85</td>\n",
       "    </tr>\n",
       "    <tr>\n",
       "      <th>8.02.0079</th>\n",
       "      <td>5</td>\n",
       "      <td>100.46</td>\n",
       "      <td>114.95</td>\n",
       "      <td>0.0</td>\n",
       "      <td></td>\n",
       "      <td>114.95</td>\n",
       "    </tr>\n",
       "    <tr>\n",
       "      <th>8.02.0119</th>\n",
       "      <td>1</td>\n",
       "      <td>36.95</td>\n",
       "      <td>41.99</td>\n",
       "      <td>0.0</td>\n",
       "      <td></td>\n",
       "      <td>41.99</td>\n",
       "    </tr>\n",
       "    <tr>\n",
       "      <th>8.08.0002</th>\n",
       "      <td>4</td>\n",
       "      <td>65.70</td>\n",
       "      <td>75.96</td>\n",
       "      <td>0.0</td>\n",
       "      <td></td>\n",
       "      <td>75.96</td>\n",
       "    </tr>\n",
       "  </tbody>\n",
       "</table>\n",
       "</div>"
      ],
      "text/plain": [
       "           Shipped Qty  Payable to Partner from Sale  Gross Sales Revenue  \\\n",
       "sap                                                                         \n",
       "8.01.0162            1                        305.99               359.99   \n",
       "8.01.0298            7                       1213.93              1399.93   \n",
       "8.01.0306           26                       9838.14             11179.74   \n",
       "8.01.0307           28                      10582.02             12039.72   \n",
       "8.01.0320           13                       3431.87              3899.87   \n",
       "8.01.0324            1                        158.39               179.99   \n",
       "8.01.0343           14                       3212.86              3779.86   \n",
       "8.01.0379           19                      11487.21             13389.81   \n",
       "8.01.0381           33                      20270.87             23299.67   \n",
       "8.01.0436            9                       3353.91              3869.91   \n",
       "8.01.0451           52                      22369.48             25999.48   \n",
       "8.01.0452            5                       2997.25              3449.95   \n",
       "8.01.0453            3                       3062.37              3479.97   \n",
       "8.01.0455           15                       3904.65              4559.85   \n",
       "8.02.0079            5                        100.46               114.95   \n",
       "8.02.0119            1                         36.95                41.99   \n",
       "8.08.0002            4                         65.70                75.96   \n",
       "\n",
       "           Refunded Retail Sales 订单情况    output  \n",
       "sap                                              \n",
       "8.01.0162                    0.0         359.99  \n",
       "8.01.0298                    0.0        1399.93  \n",
       "8.01.0306                    0.0       11179.74  \n",
       "8.01.0307                    0.0       12039.72  \n",
       "8.01.0320                    0.0        3899.87  \n",
       "8.01.0324                    0.0         179.99  \n",
       "8.01.0343                    0.0        3779.86  \n",
       "8.01.0379                    0.0       13389.81  \n",
       "8.01.0381                    0.0       23299.67  \n",
       "8.01.0436                    0.0        3869.91  \n",
       "8.01.0451                    0.0       25999.48  \n",
       "8.01.0452                    0.0        3449.95  \n",
       "8.01.0453                    0.0        3479.97  \n",
       "8.01.0455                    0.0        4559.85  \n",
       "8.02.0079                    0.0         114.95  \n",
       "8.02.0119                    0.0          41.99  \n",
       "8.08.0002                    0.0          75.96  "
      ]
     },
     "execution_count": 66,
     "metadata": {},
     "output_type": "execute_result"
    }
   ],
   "source": [
    "df_sale = df_payment[df_payment['Transaction Type'] == 'SALE']\n",
    "df_payment_group_by_sap = df_sale.groupby(['sap'])['Shipped Qty','Payable to Partner from Sale','Gross Sales Revenue','Refunded Retail Sales'].sum()\n",
    "df_payment_group_by_sap\n",
    "df_payment_group_by_sap['订单情况'] = \"\"\n",
    "df_payment_group_by_sap['output'] = df_payment_group_by_sap['Gross Sales Revenue'] \n",
    "df_payment_group_by_sap"
   ]
  },
  {
   "cell_type": "markdown",
   "id": "38870b7c",
   "metadata": {},
   "source": [
    "#### 退款订单数据"
   ]
  },
  {
   "cell_type": "code",
   "execution_count": 67,
   "id": "1a1c0427-82c2-4deb-bb0e-cc220a4ee739",
   "metadata": {},
   "outputs": [],
   "source": [
    "df_refund = df_payment[df_payment['Transaction Type'] == 'REFUNDED']\n",
    "df_refund['Refunded Retail Sales'] = df_refund['Refunded Retail Sales'].abs()\n",
    "#因为原始数据中，如果是refund的订单，数量默认是0\n",
    "max_values = df_refund.groupby('sap')['Refunded Retail Sales'].max()   \n",
    "# 需要区分是部分退货还是全款退货\n",
    "refund_all = df_refund[(df_refund['Refunded Retail Sales'] / df_refund['sap'].map(max_values)) > 0.4 ]\n",
    "refund_all['Shipped Qty'] = 1\n",
    "refund_part = df_refund[(df_refund['Refunded Retail Sales'] / df_refund['sap'].map(max_values)) <= 0.4 ]\n",
    "refund_part['Shipped Qty'] = 0"
   ]
  },
  {
   "cell_type": "code",
   "execution_count": 68,
   "id": "1c35e533",
   "metadata": {},
   "outputs": [
    {
     "data": {
      "text/html": [
       "<div>\n",
       "<style scoped>\n",
       "    .dataframe tbody tr th:only-of-type {\n",
       "        vertical-align: middle;\n",
       "    }\n",
       "\n",
       "    .dataframe tbody tr th {\n",
       "        vertical-align: top;\n",
       "    }\n",
       "\n",
       "    .dataframe thead th {\n",
       "        text-align: right;\n",
       "    }\n",
       "</style>\n",
       "<table border=\"1\" class=\"dataframe\">\n",
       "  <thead>\n",
       "    <tr style=\"text-align: right;\">\n",
       "      <th></th>\n",
       "      <th>Shipped Qty</th>\n",
       "      <th>Payable to Partner from Sale</th>\n",
       "      <th>Gross Sales Revenue</th>\n",
       "      <th>Refunded Retail Sales</th>\n",
       "      <th>退款类型</th>\n",
       "      <th>output</th>\n",
       "    </tr>\n",
       "    <tr>\n",
       "      <th>sap</th>\n",
       "      <th></th>\n",
       "      <th></th>\n",
       "      <th></th>\n",
       "      <th></th>\n",
       "      <th></th>\n",
       "      <th></th>\n",
       "    </tr>\n",
       "  </thead>\n",
       "  <tbody>\n",
       "    <tr>\n",
       "      <th>8.01.0162</th>\n",
       "      <td>1</td>\n",
       "      <td>-316.79</td>\n",
       "      <td>0.0</td>\n",
       "      <td>359.99</td>\n",
       "      <td>全额退款</td>\n",
       "      <td>359.99</td>\n",
       "    </tr>\n",
       "    <tr>\n",
       "      <th>8.01.0298</th>\n",
       "      <td>5</td>\n",
       "      <td>-873.95</td>\n",
       "      <td>0.0</td>\n",
       "      <td>999.95</td>\n",
       "      <td>全额退款</td>\n",
       "      <td>999.95</td>\n",
       "    </tr>\n",
       "    <tr>\n",
       "      <th>8.01.0306</th>\n",
       "      <td>5</td>\n",
       "      <td>-1871.35</td>\n",
       "      <td>0.0</td>\n",
       "      <td>2107.95</td>\n",
       "      <td>全额退款</td>\n",
       "      <td>2107.95</td>\n",
       "    </tr>\n",
       "    <tr>\n",
       "      <th>8.01.0307</th>\n",
       "      <td>8</td>\n",
       "      <td>-2939.12</td>\n",
       "      <td>0.0</td>\n",
       "      <td>3339.92</td>\n",
       "      <td>全额退款</td>\n",
       "      <td>3339.92</td>\n",
       "    </tr>\n",
       "    <tr>\n",
       "      <th>8.01.0324</th>\n",
       "      <td>2</td>\n",
       "      <td>-334.38</td>\n",
       "      <td>0.0</td>\n",
       "      <td>379.98</td>\n",
       "      <td>全额退款</td>\n",
       "      <td>379.98</td>\n",
       "    </tr>\n",
       "  </tbody>\n",
       "</table>\n",
       "</div>"
      ],
      "text/plain": [
       "           Shipped Qty  Payable to Partner from Sale  Gross Sales Revenue  \\\n",
       "sap                                                                         \n",
       "8.01.0162            1                       -316.79                  0.0   \n",
       "8.01.0298            5                       -873.95                  0.0   \n",
       "8.01.0306            5                      -1871.35                  0.0   \n",
       "8.01.0307            8                      -2939.12                  0.0   \n",
       "8.01.0324            2                       -334.38                  0.0   \n",
       "\n",
       "           Refunded Retail Sales  退款类型   output  \n",
       "sap                                              \n",
       "8.01.0162                 359.99  全额退款   359.99  \n",
       "8.01.0298                 999.95  全额退款   999.95  \n",
       "8.01.0306                2107.95  全额退款  2107.95  \n",
       "8.01.0307                3339.92  全额退款  3339.92  \n",
       "8.01.0324                 379.98  全额退款   379.98  "
      ]
     },
     "execution_count": 68,
     "metadata": {},
     "output_type": "execute_result"
    }
   ],
   "source": [
    "# 正常退款部分\n",
    "refund_all_gb = refund_all.groupby(['sap'])['Shipped Qty','Payable to Partner from Sale','Gross Sales Revenue','Refunded Retail Sales'].sum()\n",
    "refund_all_gb['退款类型'] = \"全额退款\"\n",
    "refund_all_gb['output'] = refund_all_gb['Refunded Retail Sales']\n",
    "refund_all_gb.head()"
   ]
  },
  {
   "cell_type": "code",
   "execution_count": 69,
   "id": "dd762355-f189-499b-a559-37ae54d0a7b4",
   "metadata": {},
   "outputs": [
    {
     "data": {
      "text/html": [
       "<div>\n",
       "<style scoped>\n",
       "    .dataframe tbody tr th:only-of-type {\n",
       "        vertical-align: middle;\n",
       "    }\n",
       "\n",
       "    .dataframe tbody tr th {\n",
       "        vertical-align: top;\n",
       "    }\n",
       "\n",
       "    .dataframe thead th {\n",
       "        text-align: right;\n",
       "    }\n",
       "</style>\n",
       "<table border=\"1\" class=\"dataframe\">\n",
       "  <thead>\n",
       "    <tr style=\"text-align: right;\">\n",
       "      <th></th>\n",
       "      <th>Shipped Qty</th>\n",
       "      <th>Payable to Partner from Sale</th>\n",
       "      <th>Gross Sales Revenue</th>\n",
       "      <th>Refunded Retail Sales</th>\n",
       "      <th>退款类型</th>\n",
       "      <th>output</th>\n",
       "    </tr>\n",
       "    <tr>\n",
       "      <th>sap</th>\n",
       "      <th></th>\n",
       "      <th></th>\n",
       "      <th></th>\n",
       "      <th></th>\n",
       "      <th></th>\n",
       "      <th></th>\n",
       "    </tr>\n",
       "  </thead>\n",
       "  <tbody>\n",
       "    <tr>\n",
       "      <th>8.01.0306</th>\n",
       "      <td>0</td>\n",
       "      <td>-16.45</td>\n",
       "      <td>0.0</td>\n",
       "      <td>18.69</td>\n",
       "      <td>部分退款</td>\n",
       "      <td>18.69</td>\n",
       "    </tr>\n",
       "    <tr>\n",
       "      <th>8.01.0379</th>\n",
       "      <td>0</td>\n",
       "      <td>-19.36</td>\n",
       "      <td>0.0</td>\n",
       "      <td>22.78</td>\n",
       "      <td>部分退款</td>\n",
       "      <td>22.78</td>\n",
       "    </tr>\n",
       "  </tbody>\n",
       "</table>\n",
       "</div>"
      ],
      "text/plain": [
       "           Shipped Qty  Payable to Partner from Sale  Gross Sales Revenue  \\\n",
       "sap                                                                         \n",
       "8.01.0306            0                        -16.45                  0.0   \n",
       "8.01.0379            0                        -19.36                  0.0   \n",
       "\n",
       "           Refunded Retail Sales  退款类型  output  \n",
       "sap                                             \n",
       "8.01.0306                  18.69  部分退款   18.69  \n",
       "8.01.0379                  22.78  部分退款   22.78  "
      ]
     },
     "execution_count": 69,
     "metadata": {},
     "output_type": "execute_result"
    }
   ],
   "source": [
    "#部分退款数据\n",
    "refund_part_gb = refund_part.groupby(['sap'])['Shipped Qty','Payable to Partner from Sale','Gross Sales Revenue','Refunded Retail Sales'].sum()\n",
    "refund_part_gb['退款类型'] = \"部分退款\"\n",
    "refund_part_gb['output'] = refund_part_gb['Refunded Retail Sales']\n",
    "refund_part_gb"
   ]
  },
  {
   "cell_type": "markdown",
   "id": "1bf94684",
   "metadata": {},
   "source": [
    "#### 正值调整"
   ]
  },
  {
   "cell_type": "code",
   "execution_count": 70,
   "id": "fdf667b1-b994-4079-942d-6913406fe5a9",
   "metadata": {},
   "outputs": [
    {
     "data": {
      "text/html": [
       "<div>\n",
       "<style scoped>\n",
       "    .dataframe tbody tr th:only-of-type {\n",
       "        vertical-align: middle;\n",
       "    }\n",
       "\n",
       "    .dataframe tbody tr th {\n",
       "        vertical-align: top;\n",
       "    }\n",
       "\n",
       "    .dataframe thead th {\n",
       "        text-align: right;\n",
       "    }\n",
       "</style>\n",
       "<table border=\"1\" class=\"dataframe\">\n",
       "  <thead>\n",
       "    <tr style=\"text-align: right;\">\n",
       "      <th></th>\n",
       "      <th>Shipped Qty</th>\n",
       "      <th>Payable to Partner from Sale</th>\n",
       "      <th>Gross Sales Revenue</th>\n",
       "      <th>Refunded Retail Sales</th>\n",
       "      <th>output</th>\n",
       "      <th>订单情况</th>\n",
       "    </tr>\n",
       "    <tr>\n",
       "      <th>sap</th>\n",
       "      <th></th>\n",
       "      <th></th>\n",
       "      <th></th>\n",
       "      <th></th>\n",
       "      <th></th>\n",
       "      <th></th>\n",
       "    </tr>\n",
       "  </thead>\n",
       "  <tbody>\n",
       "  </tbody>\n",
       "</table>\n",
       "</div>"
      ],
      "text/plain": [
       "Empty DataFrame\n",
       "Columns: [Shipped Qty, Payable to Partner from Sale, Gross Sales Revenue, Refunded Retail Sales, output, 订单情况]\n",
       "Index: []"
      ]
     },
     "execution_count": 70,
     "metadata": {},
     "output_type": "execute_result"
    }
   ],
   "source": [
    "df_adjment_sale = df_payment.loc[((df_payment['Transaction Type'] == 'ADJMNT') & (df_payment['Payable to Partner from Sale'] > 0))]\n",
    "\n",
    "df_adjment_sale_gb = df_adjment_sale.groupby(['sap'])['Shipped Qty','Payable to Partner from Sale','Gross Sales Revenue','Refunded Retail Sales'].sum()\n",
    "df_adjment_sale_gb['output'] = df_adjment_sale_gb['Payable to Partner from Sale']\n",
    "df_adjment_sale_gb['订单情况'] = \"退货服务费\"\n",
    "df_adjment_sale_gb"
   ]
  },
  {
   "cell_type": "markdown",
   "id": "edaa4305",
   "metadata": {},
   "source": [
    "#### 负值调整"
   ]
  },
  {
   "cell_type": "code",
   "execution_count": 71,
   "id": "944e016b",
   "metadata": {},
   "outputs": [],
   "source": [
    "df_adjment_refund = df_payment.loc[((df_payment['Transaction Type'] == 'ADJMNT') & (df_payment['Payable to Partner from Sale'] < 0))]\n",
    "\n",
    "df_adjment_refund_gb = df_adjment_refund.groupby(['sap'])['Shipped Qty','Payable to Partner from Sale','Gross Sales Revenue','Refunded Retail Sales'].sum()\n",
    "df_adjment_refund_gb['Shipped Qty'] = 0\n",
    "df_adjment_refund_gb['output'] = df_adjment_refund_gb['Payable to Partner from Sale'].abs()\n",
    "df_adjment_refund_gb['订单情况'] = \"退货服务费\"\n",
    "df_adjment_refund_gb['退款类型'] = \"调整服务费\""
   ]
  },
  {
   "cell_type": "markdown",
   "id": "bd900afb",
   "metadata": {},
   "source": [
    "### 销售订单合并"
   ]
  },
  {
   "cell_type": "code",
   "execution_count": 72,
   "id": "854e8c67",
   "metadata": {},
   "outputs": [],
   "source": [
    "order = pd.concat([df_payment_group_by_sap,df_adjment_sale_gb])"
   ]
  },
  {
   "cell_type": "code",
   "execution_count": 73,
   "id": "65cbd3f1",
   "metadata": {},
   "outputs": [
    {
     "data": {
      "text/html": [
       "<div>\n",
       "<style scoped>\n",
       "    .dataframe tbody tr th:only-of-type {\n",
       "        vertical-align: middle;\n",
       "    }\n",
       "\n",
       "    .dataframe tbody tr th {\n",
       "        vertical-align: top;\n",
       "    }\n",
       "\n",
       "    .dataframe thead th {\n",
       "        text-align: right;\n",
       "    }\n",
       "</style>\n",
       "<table border=\"1\" class=\"dataframe\">\n",
       "  <thead>\n",
       "    <tr style=\"text-align: right;\">\n",
       "      <th></th>\n",
       "      <th>Shipped Qty</th>\n",
       "      <th>Payable to Partner from Sale</th>\n",
       "      <th>Gross Sales Revenue</th>\n",
       "      <th>Refunded Retail Sales</th>\n",
       "      <th>订单情况</th>\n",
       "      <th>output</th>\n",
       "    </tr>\n",
       "    <tr>\n",
       "      <th>sap</th>\n",
       "      <th></th>\n",
       "      <th></th>\n",
       "      <th></th>\n",
       "      <th></th>\n",
       "      <th></th>\n",
       "      <th></th>\n",
       "    </tr>\n",
       "  </thead>\n",
       "  <tbody>\n",
       "    <tr>\n",
       "      <th>8.01.0162</th>\n",
       "      <td>1</td>\n",
       "      <td>305.99</td>\n",
       "      <td>359.99</td>\n",
       "      <td>0.0</td>\n",
       "      <td></td>\n",
       "      <td>359.99</td>\n",
       "    </tr>\n",
       "    <tr>\n",
       "      <th>8.01.0298</th>\n",
       "      <td>7</td>\n",
       "      <td>1213.93</td>\n",
       "      <td>1399.93</td>\n",
       "      <td>0.0</td>\n",
       "      <td></td>\n",
       "      <td>1399.93</td>\n",
       "    </tr>\n",
       "    <tr>\n",
       "      <th>8.01.0306</th>\n",
       "      <td>26</td>\n",
       "      <td>9838.14</td>\n",
       "      <td>11179.74</td>\n",
       "      <td>0.0</td>\n",
       "      <td></td>\n",
       "      <td>11179.74</td>\n",
       "    </tr>\n",
       "    <tr>\n",
       "      <th>8.01.0307</th>\n",
       "      <td>28</td>\n",
       "      <td>10582.02</td>\n",
       "      <td>12039.72</td>\n",
       "      <td>0.0</td>\n",
       "      <td></td>\n",
       "      <td>12039.72</td>\n",
       "    </tr>\n",
       "    <tr>\n",
       "      <th>8.01.0320</th>\n",
       "      <td>13</td>\n",
       "      <td>3431.87</td>\n",
       "      <td>3899.87</td>\n",
       "      <td>0.0</td>\n",
       "      <td></td>\n",
       "      <td>3899.87</td>\n",
       "    </tr>\n",
       "  </tbody>\n",
       "</table>\n",
       "</div>"
      ],
      "text/plain": [
       "           Shipped Qty  Payable to Partner from Sale  Gross Sales Revenue  \\\n",
       "sap                                                                         \n",
       "8.01.0162            1                        305.99               359.99   \n",
       "8.01.0298            7                       1213.93              1399.93   \n",
       "8.01.0306           26                       9838.14             11179.74   \n",
       "8.01.0307           28                      10582.02             12039.72   \n",
       "8.01.0320           13                       3431.87              3899.87   \n",
       "\n",
       "           Refunded Retail Sales 订单情况    output  \n",
       "sap                                              \n",
       "8.01.0162                    0.0         359.99  \n",
       "8.01.0298                    0.0        1399.93  \n",
       "8.01.0306                    0.0       11179.74  \n",
       "8.01.0307                    0.0       12039.72  \n",
       "8.01.0320                    0.0        3899.87  "
      ]
     },
     "execution_count": 73,
     "metadata": {},
     "output_type": "execute_result"
    }
   ],
   "source": [
    "order.head()"
   ]
  },
  {
   "cell_type": "code",
   "execution_count": 74,
   "id": "58dbc463",
   "metadata": {},
   "outputs": [],
   "source": [
    "order = order[['Shipped Qty',\"output\",\"订单情况\"]]"
   ]
  },
  {
   "cell_type": "markdown",
   "id": "7ad5fa54",
   "metadata": {},
   "source": [
    "### 退货订单合并"
   ]
  },
  {
   "cell_type": "code",
   "execution_count": 75,
   "id": "b0a88906",
   "metadata": {},
   "outputs": [],
   "source": [
    "refund = pd.concat([refund_all_gb,refund_part_gb,df_adjment_refund_gb])"
   ]
  },
  {
   "cell_type": "code",
   "execution_count": 76,
   "id": "e129d3b3",
   "metadata": {},
   "outputs": [
    {
     "data": {
      "text/html": [
       "<div>\n",
       "<style scoped>\n",
       "    .dataframe tbody tr th:only-of-type {\n",
       "        vertical-align: middle;\n",
       "    }\n",
       "\n",
       "    .dataframe tbody tr th {\n",
       "        vertical-align: top;\n",
       "    }\n",
       "\n",
       "    .dataframe thead th {\n",
       "        text-align: right;\n",
       "    }\n",
       "</style>\n",
       "<table border=\"1\" class=\"dataframe\">\n",
       "  <thead>\n",
       "    <tr style=\"text-align: right;\">\n",
       "      <th></th>\n",
       "      <th>Shipped Qty</th>\n",
       "      <th>Payable to Partner from Sale</th>\n",
       "      <th>Gross Sales Revenue</th>\n",
       "      <th>Refunded Retail Sales</th>\n",
       "      <th>退款类型</th>\n",
       "      <th>output</th>\n",
       "      <th>订单情况</th>\n",
       "    </tr>\n",
       "    <tr>\n",
       "      <th>sap</th>\n",
       "      <th></th>\n",
       "      <th></th>\n",
       "      <th></th>\n",
       "      <th></th>\n",
       "      <th></th>\n",
       "      <th></th>\n",
       "      <th></th>\n",
       "    </tr>\n",
       "  </thead>\n",
       "  <tbody>\n",
       "    <tr>\n",
       "      <th>8.01.0162</th>\n",
       "      <td>1</td>\n",
       "      <td>-316.79</td>\n",
       "      <td>0.0</td>\n",
       "      <td>359.99</td>\n",
       "      <td>全额退款</td>\n",
       "      <td>359.99</td>\n",
       "      <td>NaN</td>\n",
       "    </tr>\n",
       "    <tr>\n",
       "      <th>8.01.0298</th>\n",
       "      <td>5</td>\n",
       "      <td>-873.95</td>\n",
       "      <td>0.0</td>\n",
       "      <td>999.95</td>\n",
       "      <td>全额退款</td>\n",
       "      <td>999.95</td>\n",
       "      <td>NaN</td>\n",
       "    </tr>\n",
       "    <tr>\n",
       "      <th>8.01.0306</th>\n",
       "      <td>5</td>\n",
       "      <td>-1871.35</td>\n",
       "      <td>0.0</td>\n",
       "      <td>2107.95</td>\n",
       "      <td>全额退款</td>\n",
       "      <td>2107.95</td>\n",
       "      <td>NaN</td>\n",
       "    </tr>\n",
       "    <tr>\n",
       "      <th>8.01.0307</th>\n",
       "      <td>8</td>\n",
       "      <td>-2939.12</td>\n",
       "      <td>0.0</td>\n",
       "      <td>3339.92</td>\n",
       "      <td>全额退款</td>\n",
       "      <td>3339.92</td>\n",
       "      <td>NaN</td>\n",
       "    </tr>\n",
       "    <tr>\n",
       "      <th>8.01.0324</th>\n",
       "      <td>2</td>\n",
       "      <td>-334.38</td>\n",
       "      <td>0.0</td>\n",
       "      <td>379.98</td>\n",
       "      <td>全额退款</td>\n",
       "      <td>379.98</td>\n",
       "      <td>NaN</td>\n",
       "    </tr>\n",
       "  </tbody>\n",
       "</table>\n",
       "</div>"
      ],
      "text/plain": [
       "           Shipped Qty  Payable to Partner from Sale  Gross Sales Revenue  \\\n",
       "sap                                                                         \n",
       "8.01.0162            1                       -316.79                  0.0   \n",
       "8.01.0298            5                       -873.95                  0.0   \n",
       "8.01.0306            5                      -1871.35                  0.0   \n",
       "8.01.0307            8                      -2939.12                  0.0   \n",
       "8.01.0324            2                       -334.38                  0.0   \n",
       "\n",
       "           Refunded Retail Sales  退款类型   output 订单情况  \n",
       "sap                                                   \n",
       "8.01.0162                 359.99  全额退款   359.99  NaN  \n",
       "8.01.0298                 999.95  全额退款   999.95  NaN  \n",
       "8.01.0306                2107.95  全额退款  2107.95  NaN  \n",
       "8.01.0307                3339.92  全额退款  3339.92  NaN  \n",
       "8.01.0324                 379.98  全额退款   379.98  NaN  "
      ]
     },
     "execution_count": 76,
     "metadata": {},
     "output_type": "execute_result"
    }
   ],
   "source": [
    "refund.head()"
   ]
  },
  {
   "cell_type": "code",
   "execution_count": 77,
   "id": "f35b4ca8",
   "metadata": {},
   "outputs": [],
   "source": [
    "refund = refund[['Shipped Qty',\"output\",\"订单情况\",\"退款类型\"]]"
   ]
  },
  {
   "cell_type": "markdown",
   "id": "81eca694",
   "metadata": {},
   "source": [
    "## 数据匹配模板"
   ]
  },
  {
   "cell_type": "markdown",
   "id": "80ead7b2",
   "metadata": {},
   "source": [
    "### 销售账单输出"
   ]
  },
  {
   "cell_type": "code",
   "execution_count": 78,
   "id": "6d96bc95",
   "metadata": {},
   "outputs": [],
   "source": [
    "df5=order\n",
    "df5['promotional rebates']=0"
   ]
  },
  {
   "cell_type": "code",
   "execution_count": 79,
   "id": "cd5a26c7",
   "metadata": {},
   "outputs": [],
   "source": [
    "#获取上个月的月末\n",
    "today = datetime.date.today()\n",
    "first_day_of_month = today.replace(day=1)\n",
    "last_day_of_prev_month = first_day_of_month - datetime.timedelta(days=1)\n",
    "last_day_of_prev_month_str = last_day_of_prev_month.strftime(\"%Y%m%d\")\n",
    "aa =\"US\"+last_day_of_prev_month_str"
   ]
  },
  {
   "cell_type": "code",
   "execution_count": 80,
   "id": "a569fb0c",
   "metadata": {},
   "outputs": [],
   "source": [
    "df5[\"订单类型\"]='ZOR9'\n",
    "\n",
    "df5[\"订单原因\"]=\"\"\n",
    "df5[\"订单原因\"][df5['Shipped Qty']==0]='退货服务费'\n",
    "\n",
    "df5[\"库存地点\"]='NA01'\n",
    "\n",
    "df5[\"销售组织\"]=\"4200\"\n",
    "\n",
    "df5[\"分销渠道\"]=\"30\"\n",
    "\n",
    "df5['产品组']=\"00\"\n",
    "\n",
    "df5['销售部门']=\"3000\"\n",
    "\n",
    "df5['销售组']=\"Z10\"\n",
    "\n",
    "df5['售达方']=\"100177\"\n",
    "\n",
    "df5['送达方']=\"100177\"\n",
    "\n",
    "df5['采购订单编号'] = aa\n",
    "\n",
    "df5['订单日期']=last_day_of_prev_month_str     \n",
    "\n",
    "df5['工厂']=\"4200\"\n",
    "\n",
    "df5[\"国贸条款版本\"]=\"\"\n",
    "df5[\"国际贸易条款\"]=\"\"\n",
    "df5[\"抬头注释\"]=\"\"\n",
    "df5['币别']=\"USD\"\n",
    "df5['（项目）类别']=\"\"\n",
    "df5 = df5.reset_index()"
   ]
  },
  {
   "cell_type": "code",
   "execution_count": 81,
   "id": "6a2719b1",
   "metadata": {},
   "outputs": [],
   "source": [
    "df5 = df5.rename(columns={'sap':'物料','Shipped Qty':\"数量\",'output':\"价格（总价）\",'promotional rebates':'折扣（总价）'})"
   ]
  },
  {
   "cell_type": "code",
   "execution_count": 82,
   "id": "58b97a76",
   "metadata": {},
   "outputs": [
    {
     "data": {
      "text/plain": [
       "Index(['物料', '数量', '价格（总价）', '订单情况', '折扣（总价）', '订单类型', '订单原因', '库存地点', '销售组织',\n",
       "       '分销渠道', '产品组', '销售部门', '销售组', '售达方', '送达方', '采购订单编号', '订单日期', '工厂',\n",
       "       '国贸条款版本', '国际贸易条款', '抬头注释', '币别', '（项目）类别'],\n",
       "      dtype='object')"
      ]
     },
     "execution_count": 82,
     "metadata": {},
     "output_type": "execute_result"
    }
   ],
   "source": [
    "df5.columns"
   ]
  },
  {
   "cell_type": "code",
   "execution_count": 83,
   "id": "99ffe86d",
   "metadata": {},
   "outputs": [],
   "source": [
    "df6=df5[['订单类型','销售组织','分销渠道','产品组',\n",
    "         '销售部门', '销售组', '售达方', '送达方', \n",
    "         '采购订单编号', '订单日期','订单原因',\n",
    "        '国贸条款版本','国际贸易条款',\n",
    "         '抬头注释','物料','数量','工厂',\n",
    "        '库存地点',\"价格（总价）\",'折扣（总价）','币别','（项目）类别',\"订单情况\"]]"
   ]
  },
  {
   "cell_type": "code",
   "execution_count": 84,
   "id": "6c70825c",
   "metadata": {},
   "outputs": [],
   "source": [
    "df6.to_excel(r\"F:\\Walmart\\Walmart_payment\\Walmart\\过程数据\\Walmart销售订单%s.xlsx\"%str_today,index=False,sheet_name='销售订单')"
   ]
  },
  {
   "cell_type": "markdown",
   "id": "f536dd5f",
   "metadata": {},
   "source": [
    "### 退货账单输出"
   ]
  },
  {
   "cell_type": "code",
   "execution_count": 85,
   "id": "cb6880d0",
   "metadata": {},
   "outputs": [],
   "source": [
    "da5=refund"
   ]
  },
  {
   "cell_type": "code",
   "execution_count": 86,
   "id": "fca9c43f",
   "metadata": {},
   "outputs": [],
   "source": [
    "da5['promotional rebates']=0"
   ]
  },
  {
   "cell_type": "code",
   "execution_count": 87,
   "id": "3f413b74",
   "metadata": {},
   "outputs": [],
   "source": [
    "da5 = da5.reset_index()"
   ]
  },
  {
   "cell_type": "code",
   "execution_count": 88,
   "id": "3bd1d82d",
   "metadata": {},
   "outputs": [],
   "source": [
    "da5.rename(columns={'sap':'物料','Shipped Qty':\"数量\",'output':\"价格（总价）\",'promotional rebates':'折扣（总价）'},inplace=True)"
   ]
  },
  {
   "cell_type": "code",
   "execution_count": 89,
   "id": "ccfd0781",
   "metadata": {},
   "outputs": [],
   "source": [
    "#获取上个月的月初\n",
    "today = datetime.date.today()  # 获取今天的日期\n",
    "first_day_of_this_month = datetime.date(today.year, today.month, 1)  # 获取本月月初的日期\n",
    "first_day_of_last_month = first_day_of_this_month - datetime.timedelta(days=1)  # 上个月月末的日期\n",
    "first_day_of_last_month = datetime.date(first_day_of_last_month.year, first_day_of_last_month.month, 1)  # 上个月月初的日期\n",
    "result = first_day_of_last_month.strftime('%Y%m%d')\n",
    "bb =\"US\"+result"
   ]
  },
  {
   "cell_type": "code",
   "execution_count": 90,
   "id": "7a8ca446",
   "metadata": {},
   "outputs": [],
   "source": [
    "da5[\"订单类型\"]='ZRE3'\n",
    "\n",
    "da5[\"订单原因\"]=\"\"\n",
    "\n",
    "da5[\"库存地点\"]='NA01'\n",
    "\n",
    "da5[\"销售组织\"]=\"4200\"\n",
    "\n",
    "da5[\"分销渠道\"]=\"30\"\n",
    "\n",
    "da5['产品组']=\"00\"\n",
    "\n",
    "da5['销售部门']=\"7000\"\n",
    "\n",
    "da5['销售组']=\"Z10\"\n",
    "\n",
    "da5['售达方']=\"100177\"\n",
    "\n",
    "da5['送达方']=\"100177\"\n",
    "\n",
    "da5['采购订单编号']=bb #站点加日期\n",
    "\n",
    "da5['订单日期']= result \n",
    "\n",
    "da5['工厂']=\"4200\"\n",
    "\n",
    "da5[\"国贸条款版本\"]=\"\"\n",
    "da5[\"国际贸易条款\"]=\"\"\n",
    "da5[\"抬头注释\"]=\"\"\n",
    "\n",
    "da5['币别']=\"USD\"\n",
    "da5['（项目）类别']=\"\""
   ]
  },
  {
   "cell_type": "code",
   "execution_count": 91,
   "id": "6dbb8a79",
   "metadata": {},
   "outputs": [],
   "source": [
    "da6=da5[['订单类型','销售组织','分销渠道','产品组',\n",
    "         '销售部门', '销售组', '售达方', '送达方', \n",
    "         '采购订单编号', '订单日期','订单原因',\n",
    "        '国贸条款版本','国际贸易条款',\n",
    "         '抬头注释','物料','数量','工厂',\n",
    "        '库存地点',\"价格（总价）\",'折扣（总价）','币别','（项目）类别','退款类型',\"订单情况\"]]"
   ]
  },
  {
   "cell_type": "code",
   "execution_count": 92,
   "id": "ae38ad30",
   "metadata": {},
   "outputs": [],
   "source": [
    "da6.to_excel(r\"F:\\Walmart\\Walmart_payment\\Walmart\\过程数据\\Walmart退货订单%s.xlsx\"%str_today,index=False,sheet_name='退货订单')"
   ]
  },
  {
   "cell_type": "code",
   "execution_count": null,
   "id": "4872fa77",
   "metadata": {},
   "outputs": [],
   "source": []
  }
 ],
 "metadata": {
  "kernelspec": {
   "display_name": "Python 3",
   "language": "python",
   "name": "python3"
  },
  "language_info": {
   "codemirror_mode": {
    "name": "ipython",
    "version": 3
   },
   "file_extension": ".py",
   "mimetype": "text/x-python",
   "name": "python",
   "nbconvert_exporter": "python",
   "pygments_lexer": "ipython3",
   "version": "3.8.8"
  },
  "toc": {
   "base_numbering": 1,
   "nav_menu": {},
   "number_sections": true,
   "sideBar": true,
   "skip_h1_title": false,
   "title_cell": "Table of Contents",
   "title_sidebar": "Contents",
   "toc_cell": false,
   "toc_position": {
    "height": "563.2px",
    "left": "255px",
    "top": "176.8px",
    "width": "197.762px"
   },
   "toc_section_display": true,
   "toc_window_display": true
  },
  "varInspector": {
   "cols": {
    "lenName": 16,
    "lenType": 16,
    "lenVar": 40
   },
   "kernels_config": {
    "python": {
     "delete_cmd_postfix": "",
     "delete_cmd_prefix": "del ",
     "library": "var_list.py",
     "varRefreshCmd": "print(var_dic_list())"
    },
    "r": {
     "delete_cmd_postfix": ") ",
     "delete_cmd_prefix": "rm(",
     "library": "var_list.r",
     "varRefreshCmd": "cat(var_dic_list()) "
    }
   },
   "types_to_exclude": [
    "module",
    "function",
    "builtin_function_or_method",
    "instance",
    "_Feature"
   ],
   "window_display": false
  }
 },
 "nbformat": 4,
 "nbformat_minor": 5
}
